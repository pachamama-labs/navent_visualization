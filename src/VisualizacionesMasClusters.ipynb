{
 "cells": [
  {
   "cell_type": "code",
   "execution_count": 6,
   "metadata": {
    "collapsed": true
   },
   "outputs": [],
   "source": [
    "from collections import defaultdict\n",
    "import re\n",
    "import pandas as pd\n",
    "import numpy as np\n",
    "from sklearn.feature_extraction import FeatureHasher\n",
    "from sklearn.model_selection import train_test_split\n",
    "from sklearn.ensemble import (RandomForestClassifier,GradientBoostingClassifier)\n",
    "from sklearn import linear_model\n",
    "from sklearn.pipeline import make_pipeline\n",
    "from sklearn.model_selection import GridSearchCV\n",
    "from sklearn import linear_model\n",
    "from sklearn.svm import LinearSVC\n",
    "from sklearn.cluster import KMeans"
   ]
  },
  {
   "cell_type": "markdown",
   "metadata": {},
   "source": [
    "# Preparacion de datos"
   ]
  },
  {
   "cell_type": "code",
   "execution_count": 18,
   "metadata": {
    "collapsed": true
   },
   "outputs": [],
   "source": [
    "def get_postulaciones(size=None):\n",
    "    postulaciones = pd.read_csv('data/FiubaHasta15Abril/fiuba_4_postulaciones.csv', nrows =size).drop_duplicates(subset=['idpostulante', 'idaviso'], keep='last')\n",
    "    columns_rename = {'idaviso': 'id_aviso', 'idpostulante': 'id_postulante', 'fechapostulacion': 'fecha_postulacion'}\n",
    "    postulaciones = postulaciones.rename(columns=columns_rename)\n",
    "    postulaciones['fecha_postulacion']=pd.to_datetime(postulaciones['fecha_postulacion'])\n",
    "    return postulaciones\n",
    "\n",
    "def get_vistas(size=None):\n",
    "    vistas1 = pd.read_csv('data/FiubaHasta15Abril/fiuba_3_vistas.csv', nrows =size)\n",
    "    vistas2 = pd.read_csv('data/FiubaDesde15Abril/fiuba_3_vistas.csv', nrows =size)\n",
    "    vistas3 = pd.read_csv('data/fiuba_3_vistas.csv', nrows =size)\n",
    "    vistas = pd.concat([vistas1, vistas2, vistas3])\n",
    "    vistas_sumarizadas = vistas.groupby(['idpostulante', 'idAviso'], as_index=False)['timestamp'].count()\n",
    "    columns_rename = {'idAviso': 'id_aviso', 'idpostulante': 'id_postulante', 'timestamp': 'visualizaciones'}\n",
    "    vistas_sumarizadas = vistas_sumarizadas.rename(columns=columns_rename)\n",
    "    \n",
    "    return vistas_sumarizadas\n",
    "\n",
    "def get_features_titulo():\n",
    "    return 40\n",
    "\n",
    "def tokens(doc):\n",
    "    return (tok.lower() for tok in re.findall(r\"\\w+\", doc))\n",
    "\n",
    "\n",
    "def token_freqs(doc):\n",
    "    freq = defaultdict(int)\n",
    "    for tok in tokens(doc):\n",
    "        freq[tok] += 1\n",
    "    return freq\n",
    "\n",
    "\n",
    "\n",
    "def get_avisos_detalle():\n",
    "    avisos1 = pd.read_csv('data/fiuba_6_avisos_detalle.csv')\n",
    "    avisos2 = pd.read_csv('data/FiubaDesde15Abril/fiuba_6_avisos_detalle.csv')\n",
    "    avisos3 = pd.read_csv('data/FiubaHasta15Abril/fiuba_6_avisos_detalle.csv')\n",
    "    avisos4 = pd.read_csv('data/fiuba_6_avisos_detalle_missing_nivel_laboral.csv')        \n",
    "    avisos_detalle = pd.concat([avisos1,avisos2,avisos3,avisos4]).drop_duplicates(subset=['idaviso'], keep='last').reset_index(drop=True)\n",
    "    columns_rename = {'idpostulante': 'id_postulante', 'idaviso': 'id_aviso'}\n",
    "    avisos_detalle = avisos_detalle.rename(columns=columns_rename)\n",
    "    to_nivel_laboral_nro = {'Senior / Semi-Senior' : 2, 'Junior':1, 'Otro':0,\n",
    "       'Jefe / Supervisor / Responsable':3,\n",
    "       'Gerencia / Alta Gerencia / Dirección':4}\n",
    "    to_tipo_trabajo_nro={'Full-time':0, 'Part-time':1, 'Teletrabajo':2, 'Por Horas':3, 'Pasantia':4,\n",
    "       'Temporario':5, 'Por Contrato':6, 'Fines de Semana':7, 'Primer empleo':8,\n",
    "       'Voluntario':9}\n",
    "    to_nombre_area_numero = pd.Series(avisos_detalle['nombre_area'].unique()).to_dict()\n",
    "    to_nombre_area_numero  = {v: k for k, v in to_nombre_area_numero.items()}\n",
    "    to_nombre_zona_numero = pd.Series(avisos_detalle['nombre_zona'].unique()).to_dict()\n",
    "    to_nombre_zona_numero  = {v: k for k, v in to_nombre_zona_numero.items()}\n",
    "    avisos_detalle['nivel_laboral_nro']= avisos_detalle['nivel_laboral'].map(to_nivel_laboral_nro)\n",
    "    avisos_detalle['tipo_de_trabajo_nro'] = avisos_detalle['tipo_de_trabajo'].map(to_tipo_trabajo_nro)\n",
    "    avisos_detalle['nombre_area_nro'] = avisos_detalle['nombre_area'].map(to_nombre_area_numero)\n",
    "    avisos_detalle['zona_nro'] = avisos_detalle['nombre_zona'].map(to_nombre_zona_numero)\n",
    "    h = FeatureHasher(n_features = get_features_titulo(), non_negative=True, input_type='string', dtype='float32')\n",
    "\n",
    "    avisos_detalle['titulo_as_token_freq'] = avisos_detalle.titulo.apply(lambda x: token_freqs(x))\n",
    "    #x = h.transform(avisos_detalle['titulo'])\n",
    "    # en lugar de usar el titulo uso un token dict\n",
    "    x = h.transform(avisos_detalle['titulo_as_token_freq'])\n",
    "    avisos_detalle['titulo'] = list(x.toarray())\n",
    "\n",
    "    titulos_como_lista = avisos_detalle.titulo.apply(pd.Series)\n",
    "    avisos_detalle = pd.merge(avisos_detalle, titulos_como_lista, left_index = True, right_index = True)\n",
    "    avisos_detalle = avisos_detalle.drop(['titulo'], axis=1)  \n",
    "\n",
    "    return avisos_detalle\n",
    "\n",
    "def get_year_of_birth(postulantes_genero_edad):\n",
    "    return (pd.to_datetime\n",
    "            (postulantes_genero_edad['fechanacimiento'], errors='coerce', format='%Y-%m-%d')\n",
    "            .dt.year)\n",
    "\n",
    "def get_age(yearOfBirth):\n",
    "    return 2018 - yearOfBirth\n",
    "    \n",
    "def get_age_range(yearOfBirth):\n",
    "    age = get_age(yearOfBirth)\n",
    "    if(age<25): return 'Entre 18 y 24'\n",
    "    if(age<30): return 'Entre 25 y 30'\n",
    "    if(age<35): return 'Entre 30 y 35'\n",
    "    if(age<40): return 'Entre 35 y 40'\n",
    "    if(age<45): return 'Entre 40 y 45'\n",
    "    if(age<50): return 'Entre 45 y 50'\n",
    "    return 'Mayor de 50'\n",
    "\n",
    "def get_order_for_age_range():\n",
    "    return ['Entre 18 y 24', 'Entre 25 y 30','Entre 30 y 35','Entre 35 y 40','Entre 40 y 45','Entre 45 y 50', 'Mayor de 50']\n",
    "\n",
    "def get_postulantes_nivel_educativo_para(path):\n",
    "    postulantes_nivel_educativo = pd.read_csv(path)\n",
    "    columns_rename = {'idpostulante': 'id_postulante', 'nombre': 'formacion_postulante', 'estado': 'estado_formacion_postulante'}\n",
    "    postulantes_nivel_educativo=postulantes_nivel_educativo.rename(columns=columns_rename)\n",
    "    formacion_to_number={'Secundario' : 10, 'Otro': 20, 'Terciario/Técnico' : 30, 'Universitario' : 40, 'Posgrado' : 50,\n",
    "    'Master' : 50, 'Doctorado' : 50}\n",
    "    postulantes_nivel_educativo['formacion_postulante_numero']=postulantes_nivel_educativo['formacion_postulante'].map(formacion_to_number);\n",
    "    estado_to_number = {'En Curso': 4, 'Abandonado': 0, 'Graduado': 8}\n",
    "    postulantes_nivel_educativo['estado_formacion_postulante_numero']=postulantes_nivel_educativo['estado_formacion_postulante'].map(estado_to_number)\n",
    "    postulantes_nivel_educativo['nivel_educativo_postulante_numero'] = postulantes_nivel_educativo['formacion_postulante_numero'] + postulantes_nivel_educativo['estado_formacion_postulante_numero']\n",
    "    postulantes_nivel_educativo['nivel_educativo_postulante_texto'] = postulantes_nivel_educativo['formacion_postulante'] + ' - ' + postulantes_nivel_educativo['estado_formacion_postulante']\n",
    "    relevant_columns = ['id_postulante','nivel_educativo_postulante_texto', 'nivel_educativo_postulante_numero']\n",
    "    postulantes_nivel_educativo = postulantes_nivel_educativo[relevant_columns]\n",
    "    grouped=postulantes_nivel_educativo.groupby(['id_postulante']).agg({'nivel_educativo_postulante_numero':['max']}) \n",
    "    df=grouped.reset_index()\n",
    "    df.columns = ['id_postulante', 'maximo_nivel_educativo_postulante']\n",
    "    return df\n",
    "\n",
    "def get_postulantes_nivel_educativo():\n",
    "    postulantes1 = get_postulantes_nivel_educativo_para('data/fiuba_1_postulantes_educacion.csv')\n",
    "    postulantes2 = get_postulantes_nivel_educativo_para('data/FiubaDesde15Abril/fiuba_1_postulantes_educacion.csv')\n",
    "    postulantes3 = get_postulantes_nivel_educativo_para('data/FiubaHasta15Abril/fiuba_1_postulantes_educacion.csv')\n",
    "    return pd.concat([postulantes1,postulantes2,postulantes3]).drop_duplicates(subset=['id_postulante'], keep='last').reset_index(drop=True)\n",
    "\n",
    "def get_postulantes_genero_edad():\n",
    "    postulantes1 = pd.read_csv('data/fiuba_2_postulantes_genero_y_edad.csv')\n",
    "    postulantes2 = pd.read_csv('data/FiubaDesde15Abril/fiuba_2_postulantes_genero_y_edad.csv')\n",
    "    postulantes3 = pd.read_csv('data/FiubaHasta15Abril/fiuba_2_postulantes_genero_y_edad.csv')\n",
    "    postulantes_genero_edad = pd.concat([postulantes1,postulantes2,postulantes3]).drop_duplicates(subset=['idpostulante'], keep='last').reset_index(drop=True)\n",
    "    postulantes_genero_edad['año_nacimiento_postulante']=get_year_of_birth(postulantes_genero_edad)\n",
    "    postulantes_genero_edad['edad_postulante']=postulantes_genero_edad['año_nacimiento_postulante'].map(get_age, na_action=None)\n",
    "    postulantes_genero_edad['rango_edad_postulante']=postulantes_genero_edad['año_nacimiento_postulante'].map(get_age_range, na_action=None)\n",
    "    columns_rename = {'idpostulante': 'id_postulante', 'fechanacimiento': 'fecha_nacimiento_postulante', 'sexo': 'genero_postulante'}\n",
    "    postulantes_genero_edad = postulantes_genero_edad.rename(columns=columns_rename)\n",
    "    postulantes_genero_edad = postulantes_genero_edad[['id_postulante', 'genero_postulante', 'fecha_nacimiento_postulante', 'edad_postulante', 'rango_edad_postulante']]\n",
    "    postulantes_genero_edad['genero_postulante_nro'] = postulantes_genero_edad['genero_postulante'].map({'FEM': 0, 'MASC': 1, 'NO_DECLARA': 2})\n",
    "    return postulantes_genero_edad\n",
    "\n",
    "def get_postulantes_vistas_por_area(size=None):\n",
    "    grouped = get_detalle_vistas(size).groupby(['id_postulante', 'nombre_area']).agg({'visualizaciones':'sum'})\n",
    "    visualizaciones_por_postulante_area=grouped.stack().reset_index()\n",
    "    visualizaciones_por_postulante_area.columns=['id_postulante','nombre_area','actividad','valor']\n",
    "    visualizaciones_por_postulante_area=visualizaciones_por_postulante_area.pivot(index='id_postulante',columns='nombre_area',values='valor').fillna(value=0)\n",
    "    visualizaciones_por_postulante_area = visualizaciones_por_postulante_area.reset_index()\n",
    "    visualizaciones_por_postulante_area.columns.rename(name='', inplace = True)\n",
    "    postulantes_limpios = get_postulantes_limpios()['id_postulante'].to_frame()\n",
    "    visualizaciones_por_postulante_area = pd.merge(postulantes_limpios, visualizaciones_por_postulante_area, on='id_postulante', how='left')\n",
    "    visualizaciones_por_postulante_area.fillna(value = 0, inplace = True)\n",
    "    return visualizaciones_por_postulante_area\n",
    "\n",
    "def get_postulantes_con_tag_cluster(sizeVistas=None):\n",
    "    visualizaciones_por_postulante_area = get_postulantes_vistas_por_area(sizeVistas)\n",
    "    x = list(visualizaciones_por_postulante_area.columns)\n",
    "    x.remove('id_postulante')\n",
    "    y_pred = KMeans(n_clusters=50, random_state=177).fit_predict(visualizaciones_por_postulante_area[x])\n",
    "    visualizaciones_por_postulante_area['cluster_postulante'] = y_pred\n",
    "    return visualizaciones_por_postulante_area\n",
    "\n",
    "def get_postulantes_limpios():\n",
    "    postulantes = pd.merge(get_postulantes_genero_edad(), get_postulantes_nivel_educativo(), on='id_postulante', how='outer')\n",
    "    order_for_columns = ['id_postulante','edad_postulante', 'genero_postulante', 'genero_postulante_nro', 'maximo_nivel_educativo_postulante']\n",
    "    return postulantes[order_for_columns]\n",
    "\n",
    "def get_detalle_postulaciones(size=None):\n",
    "    postulaciones = get_postulaciones(size)\n",
    "    avisos = get_avisos_detalle()\n",
    "    postulantes = get_postulantes_limpios()\n",
    "    detalle_postulaciones = pd.merge(postulantes, postulaciones, on='id_postulante', how='inner') \n",
    "    detalle_postulaciones = pd.merge(detalle_postulaciones, avisos, on='id_aviso', how='inner')\n",
    "    \n",
    "    return detalle_postulaciones\n",
    "\n",
    "def get_detalle_vistas(size=None):\n",
    "    vistas = get_vistas(size)\n",
    "    avisos = get_avisos_detalle()\n",
    "    postulantes = get_postulantes_limpios()\n",
    "    detalle_vistas = pd.merge(postulantes, vistas, on='id_postulante', how='inner') \n",
    "    detalle_vistas = pd.merge(detalle_vistas, avisos, on='id_aviso', how='inner')\n",
    "    return detalle_vistas\n",
    "\n",
    "\n",
    "def x_clustering():\n",
    "    return ['Abastecimiento', 'Administración', 'Administración de Personal', 'Almacén / Depósito / Expedición', 'Asistente', 'Atención al Cliente', 'Bioquímica', 'Cadetería', 'Call Center', 'Camareros', 'Capacitación', 'Comercial', 'Community Management', 'Compras', 'Construcción', 'Consultorías Comercio Exterior', 'Contabilidad', 'Créditos y Cobranzas', 'Diseño', 'Diseño Textil e Indumentaria', 'Distribución', 'Farmacéutica', 'Gastronomia', 'Hotelería', 'Impuestos', 'Infraestructura', 'Ingeniería  Mecánica', 'Jóvenes Profesionales', 'Laboratorio', 'Legal', 'Logística', 'Mantenimiento y Limpieza', 'Medicina', 'Otros', 'Pasantía / Trainee', 'Planeamiento comercial', 'Producción', 'Producto', 'Programación de producción', 'Promotoras/es', 'Recepcionista', 'Relaciones Institucionales/Publicas', 'Salud', 'Secretaria', 'Seguridad', 'Seguridad e Higiene', 'Selección', 'Soporte Técnico', 'Tecnologia / Sistemas', 'Telecomunicaciones', 'Telemarketing', 'Tesorería', 'Transporte', 'Ventas', 'cluster_postulante']\n",
    "\n",
    "def x_entrenamiento():\n",
    "    return ['edad_postulante', 'genero_postulante_nro', 'maximo_nivel_educativo_postulante', 'nivel_laboral_nro', 'visualizaciones', 'nombre_area_nro',0,1,3,4,5,6,7,8,9,10,11,12,13,14,15,16,17,18,19,20,21,22,23,24,24,25,26,27,28,29,30,31,32,33,34,35,36,37,38,39] + x_clustering()\n",
    "\n",
    "def y_entrenamiento():\n",
    "    return ['sepostulo']\n",
    "\n",
    "def columnas_relevantes_test_data():\n",
    "    return ['id','id_aviso','id_postulante'] + x_entrenamiento()\n",
    "\n",
    "def get_test_data(cluster_postulantes):\n",
    "    tests = pd.read_csv('data/Test/test_final_100k.csv')\n",
    "    columns_rename = {'idpostulante': 'id_postulante', 'idaviso': 'id_aviso'}\n",
    "    tests = tests.rename(columns=columns_rename)\n",
    "    tests = pd.merge(tests, get_avisos_detalle(), on='id_aviso', how='left')\n",
    "    tests = pd.merge(tests, get_postulantes_limpios(), on='id_postulante', how='left')\n",
    "    tests = pd.merge(tests, cluster_postulantes, on='id_postulante', how='left')\n",
    "    vistas = get_vistas()\n",
    "    tests = pd.merge(tests, vistas, on=['id_postulante', 'id_aviso'], how='left' )    \n",
    "    tests['visualizaciones'].fillna(value=0, inplace=True) \n",
    "        \n",
    "    return tests[columnas_relevantes_test_data()]\n",
    "\n",
    "def get_default_null_values(df):\n",
    "    return {'edad_postulante':int(df['edad_postulante'].mean()), 'genero_postulante_nro':int(0), 'maximo_nivel_educativo_postulante':int(df['maximo_nivel_educativo_postulante'].mean()), 'nivel_laboral_nro':int(0), 'visualizaciones':int(0), 'nombre_area_nro':int(0)}\n",
    "\n",
    "def get_test_data_clean(cluster_postulantes):\n",
    "    tests = get_test_data(cluster_postulantes)\n",
    "    tests = tests.fillna(value=get_default_null_values(tests))\n",
    "    return tests\n",
    "\n",
    "def get_datos_entrenamiento(postulantes_masinfo, size=None):\n",
    "    postulaciones_aplicadas = get_detalle_postulaciones(size)\n",
    "    columnas_relevantes = x_entrenamiento() + y_entrenamiento()\n",
    "    postulaciones_aplicadas['sepostulo'] = True\n",
    "    postulaciones_no_aplicadas = get_detalle_vistas(size)\n",
    "    vistas = postulaciones_no_aplicadas[['id_postulante', 'id_aviso', 'visualizaciones']]        \n",
    "    postulaciones_aplicadas = pd.merge(postulaciones_aplicadas, vistas, on=['id_postulante', 'id_aviso'], how='left' )    \n",
    "    postulaciones_aplicadas['visualizaciones'].fillna(value=0, inplace=True)    \n",
    "    postulaciones_no_aplicadas['sepostulo'] = False    \n",
    "    postulaciones_aplicadas = postulaciones_aplicadas[:postulaciones_no_aplicadas.shape[0]]\n",
    "    postulaciones_no_aplicadas = postulaciones_no_aplicadas[:postulaciones_aplicadas.shape[0]]\n",
    "    postulaciones_no_aplicadas = postulaciones_aplicadas.append(postulaciones_no_aplicadas).drop_duplicates(subset=['id_aviso', 'id_postulante'], keep='first')\n",
    "    postulaciones_no_aplicadas = pd.merge(postulaciones_no_aplicadas, postulantes_masinfo, on='id_postulante', how='inner')\n",
    "    return postulaciones_no_aplicadas[columnas_relevantes].dropna()\n",
    "\n",
    "def get_predictor(set_entrenamiento):\n",
    "    # Prepare feature and dependent variable along with categorical encoding\n",
    "    X=pd.get_dummies(set_entrenamiento.loc[:, x_entrenamiento()])\n",
    "    y=set_entrenamiento.loc[:, 'sepostulo']\n",
    "    clf = svm.SVC()\n",
    "    return clf.fit(X, y)\n",
    "\n",
    "def get_random_forest_predictor(set_entrenamiento):\n",
    "    X = set_entrenamiento.loc[:, x_entrenamiento()]\n",
    "    Y = set_entrenamiento.loc[:, 'sepostulo']\n",
    "    clf = RandomForestClassifier(n_estimators=15)\n",
    "    return clf.fit(X, Y)\n",
    "\n",
    "def get_sgd_classifier(set_entrenamiento):\n",
    "    X = set_entrenamiento.loc[:, x_entrenamiento()]\n",
    "    Y = set_entrenamiento.loc[:, 'sepostulo']\n",
    "    clf = linear_model.SGDClassifier()\n",
    "    return clf.fit(X, Y)\n",
    "\n",
    "def get_general_predictor():\n",
    "    return get_random_forest_predictor(get_datos_entrenamiento(10000))\n",
    "\n",
    "def get_postulantes_a_personalizar():\n",
    "    tests = pd.read_csv('data/Test/test_final_100k.csv')\n",
    "    return set(tests['idpostulante'])\n",
    "\n",
    "def get_personalized_predictor(cantidad_mininima_observaciones):\n",
    "    datos_entrenamiento = get_datos_entrenamiento()\n",
    "    postulantes = get_postulantes_a_personalizar()\n",
    "    return get_random_forest_predictor(get_datos_entrenamiento(10000))\n",
    "\n",
    "#El ensamble\n",
    "def get_predictor_machine_avisos(cantidad_mininima_observaciones):\n",
    "    machine = { generalPredictor : get_general_predictor(), personalizedPredictor : get_personalized_predictor(cantidad_mininima_observaciones)} \n",
    "    return machine\n",
    "\n",
    "def obtener_predicciones(predictor, set_test):\n",
    "    return predictor.predict(set_test[x_entrenamiento()])\n",
    "\n",
    "def get_score(dataset, clasificador):\n",
    "    X_train, X_test, y_train, y_test = train_test_split(dataset.loc[:, x_entrenamiento()], dataset.loc[:, 'sepostulo'], test_size=0.33, random_state=42)\n",
    "    clasificador = clasificador.fit(X_train, y_train)    \n",
    "    return clasificador.score(X_test, y_test)\n",
    " "
   ]
  },
  {
   "cell_type": "code",
   "execution_count": 4,
   "metadata": {},
   "outputs": [
    {
     "name": "stderr",
     "output_type": "stream",
     "text": [
      "C:\\Program Files (x86)\\Microsoft Visual Studio\\Shared\\Anaconda3_64\\lib\\site-packages\\sklearn\\feature_extraction\\hashing.py:94: DeprecationWarning: the option non_negative=True has been deprecated in 0.19 and will be removed in version 0.21.\n",
      "  \" in version 0.21.\", DeprecationWarning)\n"
     ]
    }
   ],
   "source": [
    "cluster_postulantes = get_postulantes_con_tag_cluster(100)"
   ]
  },
  {
   "cell_type": "code",
   "execution_count": 5,
   "metadata": {},
   "outputs": [
    {
     "name": "stdout",
     "output_type": "stream",
     "text": [
      "['id_postulante', 'Abastecimiento', 'Administración', 'Administración de Personal', 'Almacén / Depósito / Expedición', 'Asistente', 'Atención al Cliente', 'Bioquímica', 'Cadetería', 'Call Center', 'Camareros', 'Capacitación', 'Comercial', 'Community Management', 'Compras', 'Construcción', 'Consultorías Comercio Exterior', 'Contabilidad', 'Créditos y Cobranzas', 'Diseño', 'Diseño Textil e Indumentaria', 'Distribución', 'Farmacéutica', 'Gastronomia', 'Hotelería', 'Impuestos', 'Infraestructura', 'Ingeniería  Mecánica', 'Jóvenes Profesionales', 'Laboratorio', 'Legal', 'Logística', 'Mantenimiento y Limpieza', 'Medicina', 'Otros', 'Pasantía / Trainee', 'Planeamiento comercial', 'Producción', 'Producto', 'Programación de producción', 'Promotoras/es', 'Recepcionista', 'Relaciones Institucionales/Publicas', 'Salud', 'Secretaria', 'Seguridad', 'Seguridad e Higiene', 'Selección', 'Soporte Técnico', 'Tecnologia / Sistemas', 'Telecomunicaciones', 'Telemarketing', 'Tesorería', 'Transporte', 'Ventas', 'cluster_postulante']\n"
     ]
    }
   ],
   "source": [
    "print(list(cluster_postulantes.columns))"
   ]
  },
  {
   "cell_type": "code",
   "execution_count": 10,
   "metadata": {},
   "outputs": [
    {
     "name": "stderr",
     "output_type": "stream",
     "text": [
      "C:\\Program Files (x86)\\Microsoft Visual Studio\\Shared\\Anaconda3_64\\lib\\site-packages\\sklearn\\feature_extraction\\hashing.py:94: DeprecationWarning: the option non_negative=True has been deprecated in 0.19 and will be removed in version 0.21.\n",
      "  \" in version 0.21.\", DeprecationWarning)\n",
      "C:\\Program Files (x86)\\Microsoft Visual Studio\\Shared\\Anaconda3_64\\lib\\site-packages\\sklearn\\feature_extraction\\hashing.py:94: DeprecationWarning: the option non_negative=True has been deprecated in 0.19 and will be removed in version 0.21.\n",
      "  \" in version 0.21.\", DeprecationWarning)\n"
     ]
    }
   ],
   "source": [
    "set_entrenamiento = get_datos_entrenamiento(cluster_postulantes, 100)"
   ]
  },
  {
   "cell_type": "code",
   "execution_count": 11,
   "metadata": {},
   "outputs": [
    {
     "data": {
      "text/html": [
       "<div>\n",
       "<style>\n",
       "    .dataframe thead tr:only-child th {\n",
       "        text-align: right;\n",
       "    }\n",
       "\n",
       "    .dataframe thead th {\n",
       "        text-align: left;\n",
       "    }\n",
       "\n",
       "    .dataframe tbody tr th {\n",
       "        vertical-align: top;\n",
       "    }\n",
       "</style>\n",
       "<table border=\"1\" class=\"dataframe\">\n",
       "  <thead>\n",
       "    <tr style=\"text-align: right;\">\n",
       "      <th></th>\n",
       "      <th>edad_postulante</th>\n",
       "      <th>genero_postulante_nro</th>\n",
       "      <th>maximo_nivel_educativo_postulante</th>\n",
       "      <th>nivel_laboral_nro</th>\n",
       "      <th>visualizaciones</th>\n",
       "      <th>nombre_area_nro</th>\n",
       "      <th>0</th>\n",
       "      <th>1</th>\n",
       "      <th>3</th>\n",
       "      <th>4</th>\n",
       "      <th>...</th>\n",
       "      <th>Selección</th>\n",
       "      <th>Soporte Técnico</th>\n",
       "      <th>Tecnologia / Sistemas</th>\n",
       "      <th>Telecomunicaciones</th>\n",
       "      <th>Telemarketing</th>\n",
       "      <th>Tesorería</th>\n",
       "      <th>Transporte</th>\n",
       "      <th>Ventas</th>\n",
       "      <th>cluster_postulante</th>\n",
       "      <th>sepostulo</th>\n",
       "    </tr>\n",
       "  </thead>\n",
       "  <tbody>\n",
       "    <tr>\n",
       "      <th>0</th>\n",
       "      <td>37.0</td>\n",
       "      <td>0.0</td>\n",
       "      <td>48.0</td>\n",
       "      <td>2.0</td>\n",
       "      <td>0.0</td>\n",
       "      <td>58</td>\n",
       "      <td>1.0</td>\n",
       "      <td>0.0</td>\n",
       "      <td>0.0</td>\n",
       "      <td>0.0</td>\n",
       "      <td>...</td>\n",
       "      <td>0.0</td>\n",
       "      <td>0.0</td>\n",
       "      <td>0.0</td>\n",
       "      <td>0.0</td>\n",
       "      <td>0.0</td>\n",
       "      <td>0.0</td>\n",
       "      <td>0.0</td>\n",
       "      <td>0.0</td>\n",
       "      <td>0</td>\n",
       "      <td>True</td>\n",
       "    </tr>\n",
       "    <tr>\n",
       "      <th>1</th>\n",
       "      <td>40.0</td>\n",
       "      <td>0.0</td>\n",
       "      <td>40.0</td>\n",
       "      <td>2.0</td>\n",
       "      <td>0.0</td>\n",
       "      <td>27</td>\n",
       "      <td>0.0</td>\n",
       "      <td>0.0</td>\n",
       "      <td>0.0</td>\n",
       "      <td>0.0</td>\n",
       "      <td>...</td>\n",
       "      <td>0.0</td>\n",
       "      <td>0.0</td>\n",
       "      <td>0.0</td>\n",
       "      <td>0.0</td>\n",
       "      <td>0.0</td>\n",
       "      <td>0.0</td>\n",
       "      <td>0.0</td>\n",
       "      <td>0.0</td>\n",
       "      <td>0</td>\n",
       "      <td>True</td>\n",
       "    </tr>\n",
       "    <tr>\n",
       "      <th>2</th>\n",
       "      <td>40.0</td>\n",
       "      <td>0.0</td>\n",
       "      <td>40.0</td>\n",
       "      <td>2.0</td>\n",
       "      <td>0.0</td>\n",
       "      <td>56</td>\n",
       "      <td>0.0</td>\n",
       "      <td>0.0</td>\n",
       "      <td>0.0</td>\n",
       "      <td>0.0</td>\n",
       "      <td>...</td>\n",
       "      <td>0.0</td>\n",
       "      <td>0.0</td>\n",
       "      <td>0.0</td>\n",
       "      <td>0.0</td>\n",
       "      <td>0.0</td>\n",
       "      <td>0.0</td>\n",
       "      <td>0.0</td>\n",
       "      <td>0.0</td>\n",
       "      <td>0</td>\n",
       "      <td>True</td>\n",
       "    </tr>\n",
       "    <tr>\n",
       "      <th>3</th>\n",
       "      <td>40.0</td>\n",
       "      <td>0.0</td>\n",
       "      <td>40.0</td>\n",
       "      <td>2.0</td>\n",
       "      <td>0.0</td>\n",
       "      <td>56</td>\n",
       "      <td>0.0</td>\n",
       "      <td>0.0</td>\n",
       "      <td>0.0</td>\n",
       "      <td>0.0</td>\n",
       "      <td>...</td>\n",
       "      <td>0.0</td>\n",
       "      <td>0.0</td>\n",
       "      <td>0.0</td>\n",
       "      <td>0.0</td>\n",
       "      <td>0.0</td>\n",
       "      <td>0.0</td>\n",
       "      <td>0.0</td>\n",
       "      <td>0.0</td>\n",
       "      <td>0</td>\n",
       "      <td>True</td>\n",
       "    </tr>\n",
       "    <tr>\n",
       "      <th>4</th>\n",
       "      <td>40.0</td>\n",
       "      <td>0.0</td>\n",
       "      <td>40.0</td>\n",
       "      <td>2.0</td>\n",
       "      <td>0.0</td>\n",
       "      <td>27</td>\n",
       "      <td>0.0</td>\n",
       "      <td>0.0</td>\n",
       "      <td>0.0</td>\n",
       "      <td>1.0</td>\n",
       "      <td>...</td>\n",
       "      <td>0.0</td>\n",
       "      <td>0.0</td>\n",
       "      <td>0.0</td>\n",
       "      <td>0.0</td>\n",
       "      <td>0.0</td>\n",
       "      <td>0.0</td>\n",
       "      <td>0.0</td>\n",
       "      <td>0.0</td>\n",
       "      <td>0</td>\n",
       "      <td>True</td>\n",
       "    </tr>\n",
       "  </tbody>\n",
       "</table>\n",
       "<p>5 rows × 102 columns</p>\n",
       "</div>"
      ],
      "text/plain": [
       "   edad_postulante  genero_postulante_nro  maximo_nivel_educativo_postulante  \\\n",
       "0             37.0                    0.0                               48.0   \n",
       "1             40.0                    0.0                               40.0   \n",
       "2             40.0                    0.0                               40.0   \n",
       "3             40.0                    0.0                               40.0   \n",
       "4             40.0                    0.0                               40.0   \n",
       "\n",
       "   nivel_laboral_nro  visualizaciones  nombre_area_nro    0    1    3    4  \\\n",
       "0                2.0              0.0               58  1.0  0.0  0.0  0.0   \n",
       "1                2.0              0.0               27  0.0  0.0  0.0  0.0   \n",
       "2                2.0              0.0               56  0.0  0.0  0.0  0.0   \n",
       "3                2.0              0.0               56  0.0  0.0  0.0  0.0   \n",
       "4                2.0              0.0               27  0.0  0.0  0.0  1.0   \n",
       "\n",
       "     ...      Selección  Soporte Técnico  Tecnologia / Sistemas  \\\n",
       "0    ...            0.0              0.0                    0.0   \n",
       "1    ...            0.0              0.0                    0.0   \n",
       "2    ...            0.0              0.0                    0.0   \n",
       "3    ...            0.0              0.0                    0.0   \n",
       "4    ...            0.0              0.0                    0.0   \n",
       "\n",
       "   Telecomunicaciones  Telemarketing  Tesorería  Transporte  Ventas  \\\n",
       "0                 0.0            0.0        0.0         0.0     0.0   \n",
       "1                 0.0            0.0        0.0         0.0     0.0   \n",
       "2                 0.0            0.0        0.0         0.0     0.0   \n",
       "3                 0.0            0.0        0.0         0.0     0.0   \n",
       "4                 0.0            0.0        0.0         0.0     0.0   \n",
       "\n",
       "   cluster_postulante  sepostulo  \n",
       "0                   0       True  \n",
       "1                   0       True  \n",
       "2                   0       True  \n",
       "3                   0       True  \n",
       "4                   0       True  \n",
       "\n",
       "[5 rows x 102 columns]"
      ]
     },
     "execution_count": 11,
     "metadata": {},
     "output_type": "execute_result"
    }
   ],
   "source": [
    "set_entrenamiento.head()"
   ]
  },
  {
   "cell_type": "markdown",
   "metadata": {},
   "source": [
    "# Armado de los sets de test y de entrenamiento"
   ]
  },
  {
   "cell_type": "code",
   "execution_count": 13,
   "metadata": {},
   "outputs": [],
   "source": [
    "from sklearn.model_selection import train_test_split\n",
    "x = set_entrenamiento.columns.values.tolist()\n",
    "x.remove('sepostulo')\n",
    "\n",
    "# para generar las predicciones te conviene entrenar con el dataset completo sin splitear...\n",
    "# haces el split para encontrar la mejor version de los parametros del modelo.\n",
    "X_train, X_test, y_train, y_test = train_test_split(set_entrenamiento.loc[:, x], set_entrenamiento.loc[:, 'sepostulo'], test_size=0.3, random_state=43)\n"
   ]
  },
  {
   "cell_type": "markdown",
   "metadata": {},
   "source": [
    "# Entrenamiento"
   ]
  },
  {
   "cell_type": "code",
   "execution_count": 14,
   "metadata": {
    "collapsed": true
   },
   "outputs": [],
   "source": [
    "#clf = RandomForestClassifier(n_estimators=30)\n",
    "clf = RandomForestClassifier(n_estimators=50,min_samples_split=5,min_samples_leaf=5, max_depth=5)\n",
    "\n",
    "predictor =  clf.fit(X_train, y_train)\n"
   ]
  },
  {
   "cell_type": "code",
   "execution_count": 84,
   "metadata": {},
   "outputs": [
    {
     "data": {
      "text/plain": [
       "0.99409213989509759"
      ]
     },
     "execution_count": 84,
     "metadata": {},
     "output_type": "execute_result"
    }
   ],
   "source": [
    "# Mejor score\n",
    "predictor.score(X_test, y_test)#set entrenamiento 100K"
   ]
  },
  {
   "cell_type": "code",
   "execution_count": 222,
   "metadata": {},
   "outputs": [
    {
     "data": {
      "text/plain": [
       "1.0"
      ]
     },
     "execution_count": 222,
     "metadata": {},
     "output_type": "execute_result"
    }
   ],
   "source": [
    "predictor.score(X_test, y_test)#set entrenamiento 100K"
   ]
  },
  {
   "cell_type": "code",
   "execution_count": 29,
   "metadata": {
    "collapsed": true
   },
   "outputs": [],
   "source": [
    "predictor =  clf.fit(set_entrenamiento.loc[:, x], set_entrenamiento.loc[:, 'sepostulo'])"
   ]
  },
  {
   "cell_type": "code",
   "execution_count": 55,
   "metadata": {},
   "outputs": [
    {
     "data": {
      "text/plain": [
       "0.8318845076359597"
      ]
     },
     "execution_count": 55,
     "metadata": {},
     "output_type": "execute_result"
    }
   ],
   "source": [
    "#score con todos los datos\n",
    "predictor.score(X_test, y_test)"
   ]
  },
  {
   "cell_type": "markdown",
   "metadata": {},
   "source": [
    "#### Prueba y resultados para la competencia"
   ]
  },
  {
   "cell_type": "code",
   "execution_count": 19,
   "metadata": {},
   "outputs": [
    {
     "name": "stderr",
     "output_type": "stream",
     "text": [
      "C:\\Program Files (x86)\\Microsoft Visual Studio\\Shared\\Anaconda3_64\\lib\\site-packages\\sklearn\\feature_extraction\\hashing.py:94: DeprecationWarning: the option non_negative=True has been deprecated in 0.19 and will be removed in version 0.21.\n",
      "  \" in version 0.21.\", DeprecationWarning)\n"
     ]
    }
   ],
   "source": [
    "set_test = get_test_data_clean(cluster_postulantes)"
   ]
  },
  {
   "cell_type": "code",
   "execution_count": 20,
   "metadata": {},
   "outputs": [
    {
     "data": {
      "text/plain": [
       "id                                        0\n",
       "id_aviso                                  0\n",
       "id_postulante                             0\n",
       "edad_postulante                        2869\n",
       "genero_postulante_nro                     0\n",
       "maximo_nivel_educativo_postulante      5612\n",
       "nivel_laboral_nro                      4431\n",
       "visualizaciones                           0\n",
       "nombre_area_nro                           0\n",
       "0                                         0\n",
       "1                                         0\n",
       "3                                         0\n",
       "4                                         0\n",
       "5                                         0\n",
       "6                                         0\n",
       "7                                         0\n",
       "8                                         0\n",
       "9                                         0\n",
       "10                                        0\n",
       "11                                        0\n",
       "12                                        0\n",
       "13                                        0\n",
       "14                                        0\n",
       "15                                        0\n",
       "16                                        0\n",
       "17                                        0\n",
       "18                                        0\n",
       "19                                        0\n",
       "20                                        0\n",
       "21                                        0\n",
       "                                       ... \n",
       "Infraestructura                           0\n",
       "Ingeniería  Mecánica                      0\n",
       "Jóvenes Profesionales                     0\n",
       "Laboratorio                               0\n",
       "Legal                                     0\n",
       "Logística                                 0\n",
       "Mantenimiento y Limpieza                  0\n",
       "Medicina                                  0\n",
       "Otros                                     0\n",
       "Pasantía / Trainee                        0\n",
       "Planeamiento comercial                    0\n",
       "Producción                                0\n",
       "Producto                                  0\n",
       "Programación de producción                0\n",
       "Promotoras/es                             0\n",
       "Recepcionista                             0\n",
       "Relaciones Institucionales/Publicas       0\n",
       "Salud                                     0\n",
       "Secretaria                                0\n",
       "Seguridad                                 0\n",
       "Seguridad e Higiene                       0\n",
       "Selección                                 0\n",
       "Soporte Técnico                           0\n",
       "Tecnologia / Sistemas                     0\n",
       "Telecomunicaciones                        0\n",
       "Telemarketing                             0\n",
       "Tesorería                                 0\n",
       "Transporte                                0\n",
       "Ventas                                    0\n",
       "cluster_postulante                        0\n",
       "Length: 104, dtype: int64"
      ]
     },
     "execution_count": 20,
     "metadata": {},
     "output_type": "execute_result"
    }
   ],
   "source": [
    "set_test.isnull().sum()"
   ]
  },
  {
   "cell_type": "code",
   "execution_count": 21,
   "metadata": {
    "collapsed": true
   },
   "outputs": [],
   "source": [
    "set_test.fillna(value = 0, inplace = True)"
   ]
  },
  {
   "cell_type": "code",
   "execution_count": 22,
   "metadata": {
    "collapsed": true
   },
   "outputs": [],
   "source": [
    "def obtener_predicciones(predictor, set_test):\n",
    "    x = set_entrenamiento.columns.values.tolist()\n",
    "    x.remove('sepostulo')    \n",
    "    return predictor.predict(set_test[x]).astype(int)\n",
    "\n",
    "def guardar_resultados(fileName, predictor, set_test):\n",
    "    result = obtener_predicciones(predictor, set_test)\n",
    "    set_test['sepostulo'] = result\n",
    "    set_test[['id','sepostulo']].set_index('id').to_csv(fileName)\n",
    "    return\n",
    "\n",
    "\n",
    "guardar_resultados('RF ultimo4.csv', predictor, set_test)"
   ]
  },
  {
   "cell_type": "code",
   "execution_count": null,
   "metadata": {
    "collapsed": true
   },
   "outputs": [],
   "source": []
  }
 ],
 "metadata": {
  "kernelspec": {
   "display_name": "Python 3",
   "language": "python",
   "name": "python3"
  },
  "language_info": {
   "codemirror_mode": {
    "name": "ipython",
    "version": 3
   },
   "file_extension": ".py",
   "mimetype": "text/x-python",
   "name": "python",
   "nbconvert_exporter": "python",
   "pygments_lexer": "ipython3",
   "version": "3.6.2"
  }
 },
 "nbformat": 4,
 "nbformat_minor": 2
}
